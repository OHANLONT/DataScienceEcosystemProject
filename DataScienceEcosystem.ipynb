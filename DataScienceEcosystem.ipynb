{
 "cells": [
  {
   "cell_type": "markdown",
   "id": "7c1d01ef-fa65-4329-a522-36d2a74e2392",
   "metadata": {},
   "source": [
    "# \"Data Science Tools and Ecosystem\""
   ]
  },
  {
   "cell_type": "markdown",
   "id": "3b821bc0-c4d2-4cd5-adb9-5641d4097b77",
   "metadata": {},
   "source": [
    "**In this notebook, Data Science Tools and Ecosystems are summarized.**\n"
   ]
  },
  {
   "cell_type": "markdown",
   "id": "780099d9-26d6-4345-ae68-c69e9d442f96",
   "metadata": {},
   "source": [
    "**Objectives:**"
   ]
  },
  {
   "cell_type": "markdown",
   "id": "66713d45-042a-4ff1-a6a9-a792709a0cd2",
   "metadata": {},
   "source": [
    "- Some of the popular languages that Data Scientists use\n",
    "- Some of the commonly used libraries used by Data Scientists\n",
    "- Evaluating arithmetic expressions"
   ]
  },
  {
   "cell_type": "markdown",
   "id": "2decbcd1-dc00-49f8-a47d-2878b8ffbdbd",
   "metadata": {},
   "source": [
    "Some of the popular languages that Data Scientists use.\n",
    "1. Python\n",
    "2. R\n",
    "3. SQL"
   ]
  },
  {
   "cell_type": "markdown",
   "id": "4bbcf8c1-fbfd-4c47-b09c-8ef7df83a9e3",
   "metadata": {},
   "source": [
    "Some of the commonly used libraries used by Data Scientists include:\n",
    "1. Dplyr\n",
    "2. Mathplotlib\n",
    "3. Numpy"
   ]
  },
  {
   "cell_type": "markdown",
   "id": "61a76901-4764-42d5-8f93-44e9671f0a88",
   "metadata": {},
   "source": [
    "\n",
    "| Data Science Tools |\n",
    "| ------------------ |\n",
    "| RStudio |\n",
    "| VS Code |\n",
    "| AWS Cloud |"
   ]
  },
  {
   "cell_type": "markdown",
   "id": "8ba5c0dd-50d2-4da6-bbc6-4e34e8a4e4cc",
   "metadata": {},
   "source": [
    "### Below are a few examples of evaluating arithmetic expressions in Python"
   ]
  },
  {
   "cell_type": "code",
   "execution_count": 5,
   "id": "dd1aca49-6096-4550-b55b-235b39417a08",
   "metadata": {},
   "outputs": [
    {
     "data": {
      "text/plain": [
       "2.5"
      ]
     },
     "execution_count": 5,
     "metadata": {},
     "output_type": "execute_result"
    }
   ],
   "source": [
    "5 / 2"
   ]
  },
  {
   "cell_type": "code",
   "execution_count": 9,
   "id": "36d81026-343f-4535-943d-43ebb3252d26",
   "metadata": {},
   "outputs": [
    {
     "data": {
      "text/plain": [
       "5"
      ]
     },
     "execution_count": 9,
     "metadata": {},
     "output_type": "execute_result"
    }
   ],
   "source": [
    "2 + 3"
   ]
  },
  {
   "cell_type": "markdown",
   "id": "b9b0fe19-0b00-47b6-bdd5-c247589d239e",
   "metadata": {},
   "source": [
    "### A simple arithmetic expression to multiply and add integers"
   ]
  },
  {
   "cell_type": "code",
   "execution_count": 13,
   "id": "a9a9fc23-966b-444a-b8dc-ebb99661de7e",
   "metadata": {},
   "outputs": [
    {
     "data": {
      "text/plain": [
       "17"
      ]
     },
     "execution_count": 13,
     "metadata": {},
     "output_type": "execute_result"
    }
   ],
   "source": [
    "(3*4) + 5"
   ]
  },
  {
   "cell_type": "markdown",
   "id": "c6d32922-cd9f-4b9e-8cd8-0c1dcbe95bb1",
   "metadata": {},
   "source": [
    "### This will convert minutes to hours by dividing 200 by 60"
   ]
  },
  {
   "cell_type": "code",
   "execution_count": 15,
   "id": "cc0b70bc-1142-41a3-a266-39c8ba1a2051",
   "metadata": {},
   "outputs": [
    {
     "data": {
      "text/plain": [
       "3.3333333333333335"
      ]
     },
     "execution_count": 15,
     "metadata": {},
     "output_type": "execute_result"
    }
   ],
   "source": [
    "200/60"
   ]
  },
  {
   "cell_type": "markdown",
   "id": "ec05d0ca-49a8-49b9-baef-f1ab92379eb0",
   "metadata": {},
   "source": [
    "## Author\n",
    "Terrance OHanlon"
   ]
  },
  {
   "cell_type": "code",
   "execution_count": null,
   "id": "add72c91-f668-4ea1-a3d9-db922cbc105d",
   "metadata": {},
   "outputs": [],
   "source": []
  }
 ],
 "metadata": {
  "kernelspec": {
   "display_name": "anaconda-panel-2023.05-py310",
   "language": "python",
   "name": "conda-env-anaconda-panel-2023.05-py310-py"
  },
  "language_info": {
   "codemirror_mode": {
    "name": "ipython",
    "version": 3
   },
   "file_extension": ".py",
   "mimetype": "text/x-python",
   "name": "python",
   "nbconvert_exporter": "python",
   "pygments_lexer": "ipython3",
   "version": "3.11.5"
  }
 },
 "nbformat": 4,
 "nbformat_minor": 5
}
